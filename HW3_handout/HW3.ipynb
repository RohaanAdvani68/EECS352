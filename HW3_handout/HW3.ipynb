{
 "cells": [
  {
   "cell_type": "markdown",
   "metadata": {
    "deletable": false,
    "editable": false,
    "nbgrader": {
     "checksum": "d5d934df9310d9448cdffe1bc2e8a65b",
     "grade": false,
     "grade_id": "cell-e009fd0eb7f5e1d2",
     "locked": true,
     "schema_version": 1,
     "solution": false
    }
   },
   "source": [
    "Homework 3 — (20 points)\n",
    "======\n",
    "### What to hand in\n",
    "You are to submit the following things for this homework:\n",
    "1. A Jupyter notebook containing all code and output (figures and audio). I should be able to evaluate the file to reproduce all output. \n",
    "1. Any other data that we tell you to save to a file (e.g. audio files).\n",
    "\n",
    "Note: Make sure to include all the files that are required for the notebook to run **from the submission folder** (e.g. police_noisy.wav). Points will be taken off from submissions that crash because Python cannot find the specified files.\n",
    "\n",
    "### How to hand it in\n",
    "To submit your lab:\n",
    "1. Compress all of the files specified into a .zip file. \n",
    "1. Name the file in the following manner, firstname_lastname_hw1.zip. For example, Bryan_Pardo_hw3.zip. \n",
    "1. Submit this .zip file via Canvas"
   ]
  },
  {
   "cell_type": "markdown",
   "metadata": {
    "deletable": false,
    "nbgrader": {
     "checksum": "b8f800d35efe498eed6ee4533dd570f2",
     "grade": false,
     "grade_id": "cell-5750646bd03c744f",
     "locked": true,
     "schema_version": 1,
     "solution": false
    }
   },
   "source": [
    "# *Please write down your name here* => Rohaan Advani"
   ]
  },
  {
   "cell_type": "markdown",
   "metadata": {
    "deletable": false,
    "editable": false,
    "nbgrader": {
     "checksum": "652cd739ad95e12843908165f5ecccc6",
     "grade": false,
     "grade_id": "cell-ecdcdda315b6289b",
     "locked": true,
     "schema_version": 1,
     "solution": false
    }
   },
   "source": [
    "### Run this code block 1st, to import the needed packages"
   ]
  },
  {
   "cell_type": "code",
   "execution_count": 2,
   "metadata": {},
   "outputs": [],
   "source": [
    "# This line is a convenience to import most packages you'll need. You may need to import others (e.g. random and cmath)\n",
    "import IPython, numpy as np, scipy as sp, matplotlib.pyplot as plt, matplotlib, sklearn, librosa, cmath,math, csv\n",
    "from IPython.display import Audio\n",
    "from sklearn.datasets import load_iris\n",
    "# This line makes sure your plots happen IN the webpage you're building, instead of in separate windows.\n",
    "%matplotlib inline"
   ]
  },
  {
   "cell_type": "markdown",
   "metadata": {
    "deletable": false,
    "editable": false,
    "nbgrader": {
     "checksum": "97748a180cc4703509d35c8215fc859d",
     "grade": false,
     "grade_id": "cell-0178910fb5907927",
     "locked": true,
     "schema_version": 1,
     "solution": false
    }
   },
   "source": [
    "## IMPLEMENT DISTANCE MEASURES\n",
    "\n",
    "#### 1. (1 point) Implement a distance measure that takes two numpy arrays and an a positive scalar as input  and returns a distance measure between these two numpy arrays based on a generalized P-norm (AKA L-norm)  (e.g. P = 1 means Manhattan distance, P = 2 is Euclidean). The only library you may use to write this function is numpy."
   ]
  },
  {
   "cell_type": "code",
   "execution_count": 3,
   "metadata": {
    "deletable": false,
    "nbgrader": {
     "checksum": "13e510ef3a593f7e1e7422d3b4a2cf6d",
     "grade": false,
     "grade_id": "cell-52f83b00186467f7",
     "locked": false,
     "schema_version": 1,
     "solution": true
    }
   },
   "outputs": [],
   "source": [
    "def p_norm_distance(x, y, p):\n",
    "    \"\"\"\n",
    "    Takes a pair of numpy arrays, applies the appropriate p-norm distance measure to them and outputs it.\n",
    "    \n",
    "    Input Parameters\n",
    "    ----------------\n",
    "    x: a 1D numpy array of a feature vector\n",
    "    y: a 1D numpy array of a feature vector\n",
    "    p: integer, If 1, use Manhattan distance. If 2, use Euclidean distance\n",
    "                \n",
    "    Returns\n",
    "    -------\n",
    "    distance: a non-zero scalar, representing the distance between x and y\n",
    "    \"\"\"\n",
    "    d = np.power(np.absolute(x-y), p)  #d is a vector containing |Xi - Yi|^p\n",
    "    distance = np.sum(d)**(1/p)   #distances = sum of all |Xi - Yi|^p raised to 1/p\n",
    "    return distance"
   ]
  },
  {
   "cell_type": "code",
   "execution_count": null,
   "metadata": {
    "deletable": false,
    "editable": false,
    "nbgrader": {
     "checksum": "c8ae637208c16cc6801287a3d025b9e1",
     "grade": true,
     "grade_id": "cell-2e6b64e1416a17c0",
     "locked": true,
     "points": 1,
     "schema_version": 1,
     "solution": false
    }
   },
   "outputs": [],
   "source": [
    "# you can leave this cell blank - it's for the auto-grader"
   ]
  },
  {
   "cell_type": "markdown",
   "metadata": {
    "deletable": false,
    "editable": false,
    "nbgrader": {
     "checksum": "16acd7fb51852ea165f07a07018c4a96",
     "grade": false,
     "grade_id": "cell-ea1fd9c66062c9a1",
     "locked": true,
     "schema_version": 1,
     "solution": false
    }
   },
   "source": [
    "#### 2. (1 point) Create two sets of test cases that run your code from the previous question and illustrate it works correctly. The test cases include one for Manhatten distance and the other for euclidean distance. Compare your implementation with distance functions provided in the Scipy package:\n",
    "\n",
    "* Manhattan diatance: [scipy.spatial.distance.cityblock](https://docs.scipy.org/doc/scipy-0.14.0/reference/generated/scipy.spatial.distance.cityblock.html) \n",
    "* Euclidean distance: [scipy.spatial.distance.euclidean](https://docs.scipy.org/doc/scipy-0.14.0/reference/generated/scipy.spatial.distance.euclidean.html)"
   ]
  },
  {
   "cell_type": "code",
   "execution_count": 14,
   "metadata": {
    "deletable": false,
    "nbgrader": {
     "checksum": "cc4c4edd355b6a3f6e48930196fbd305",
     "grade": true,
     "grade_id": "cell-f2f0588088042c43",
     "locked": false,
     "points": 1,
     "schema_version": 1,
     "solution": true
    }
   },
   "outputs": [
    {
     "name": "stdout",
     "output_type": "stream",
     "text": [
      "Test case 1:\n",
      "Manhattan distance matches up with scipy implementation\n",
      "Euclidean distance matches up with scipy implementation\n",
      "\n",
      "Test case 2:\n",
      "Manhattan distance matches up with scipy implementation\n",
      "Euclidean distance matches up with scipy implementation\n"
     ]
    }
   ],
   "source": [
    "print('Test case 1:')\n",
    "x1 = np.array([0,1,2,3,4,5,6,7,8,9])\n",
    "y1 = np.array([10,20,5,0,11,77,1,90,1000,1])\n",
    "man1 = p_norm_distance(x1, y1, 1)\n",
    "man2 = sp.spatial.distance.cityblock(x1, y1)\n",
    "if man1 == man2:\n",
    "    print(\"Manhattan distance matches up with scipy implementation\")\n",
    "else:\n",
    "    print(\"Manhattan distance DOES NOT match up with scipy implementation\")\n",
    "\n",
    "euc1 = p_norm_distance(x1, y1, 2)\n",
    "euc2 = sp.spatial.distance.euclidean(x1, y1)\n",
    "if euc1 == euc2:\n",
    "    print(\"Euclidean distance matches up with scipy implementation\")\n",
    "else:\n",
    "    print(\"Euclidean distance DOES NOT match up with scipy implementation\")\n",
    "    \n",
    "print('\\nTest case 2:')\n",
    "x2 = np.array([10.9,91,42,63,44,35,67,71,28,9999])\n",
    "y2 = np.array([100.113,120,43,10,99,7,1000,0,2,1.3])\n",
    "man1 = p_norm_distance(x2, y2, 1)\n",
    "man2 = sp.spatial.distance.cityblock(x2, y2)\n",
    "if man1 == man2:\n",
    "    print(\"Manhattan distance matches up with scipy implementation\")\n",
    "else:\n",
    "    print(\"Manhattan distance DOES NOT match up with scipy implementation\")\n",
    "\n",
    "euc1 = p_norm_distance(x2, y2, 2)\n",
    "euc2 = sp.spatial.distance.euclidean(x2, y2)\n",
    "if euc1 == euc2:\n",
    "    print(\"Euclidean distance matches up with scipy implementation\")\n",
    "else:\n",
    "    print(\"Euclidean distance DOES NOT match up with scipy implementation\")"
   ]
  },
  {
   "cell_type": "markdown",
   "metadata": {
    "deletable": false,
    "editable": false,
    "nbgrader": {
     "checksum": "328eb7875fca0a00d9226c2e101bb019",
     "grade": false,
     "grade_id": "cell-b94f42c35ead5da4",
     "locked": true,
     "schema_version": 1,
     "solution": false
    }
   },
   "source": [
    "#### 3. (1 point) Implement a distance measure that takes two vectors as input and returns the cosine distance between them."
   ]
  },
  {
   "cell_type": "code",
   "execution_count": 8,
   "metadata": {
    "deletable": false,
    "nbgrader": {
     "checksum": "eac97089a76e47515fae96a0fc3cf191",
     "grade": false,
     "grade_id": "cell-eca41a1e79a92c27",
     "locked": false,
     "schema_version": 1,
     "solution": true
    }
   },
   "outputs": [],
   "source": [
    "def cosine_distance(x, y):\n",
    "    \"\"\"\n",
    "    Takes a pair of numpy arrays, applies cosine distance between them.\n",
    "    \n",
    "    Input Parameters\n",
    "    ----------------\n",
    "    x: a 1D numpy array of a feature vector\n",
    "    y: a 1D numpy array of a feature vector\n",
    "                \n",
    "    Returns\n",
    "    -------\n",
    "    distance: the cosine distance between x and y\n",
    "    \"\"\"\n",
    "    # cosine similarity = X.Y/|X||Y|\n",
    "    similarity = np.dot(x,y)/(np.linalg.norm(x) * np.linalg.norm(y))\n",
    "    distance = 1 - similarity\n",
    "    return distance"
   ]
  },
  {
   "cell_type": "code",
   "execution_count": 9,
   "metadata": {
    "deletable": false,
    "editable": false,
    "nbgrader": {
     "checksum": "f60afd907c4fc38f3e624921cfb3140d",
     "grade": true,
     "grade_id": "cell-71161d6353946d6f",
     "locked": true,
     "points": 1,
     "schema_version": 1,
     "solution": false
    }
   },
   "outputs": [],
   "source": [
    "# you can leave this cell blank - it's for the auto-grader"
   ]
  },
  {
   "cell_type": "markdown",
   "metadata": {
    "deletable": false,
    "editable": false,
    "nbgrader": {
     "checksum": "81e32bb41f01c7ea7fed186ff6d098e4",
     "grade": false,
     "grade_id": "cell-fb2d4ff5e997eea0",
     "locked": true,
     "schema_version": 1,
     "solution": false
    }
   },
   "source": [
    "#### 4. (1 point) Create two sets of test cases that run your code from the previous question and illustrate it works correctly. Compare your implementation with distance functions provided in the Scipy package:\n",
    "\n",
    "* Cosine diatance: [scipy.spatial.distance.cosine](https://docs.scipy.org/doc/scipy-0.14.0/reference/generated/scipy.spatial.distance.cosine.html) "
   ]
  },
  {
   "cell_type": "code",
   "execution_count": 15,
   "metadata": {
    "deletable": false,
    "nbgrader": {
     "checksum": "36df5f3801d584182649a99363bff4ab",
     "grade": true,
     "grade_id": "cell-ae9fe4f36d81fd8a",
     "locked": false,
     "points": 1,
     "schema_version": 1,
     "solution": true
    }
   },
   "outputs": [
    {
     "name": "stdout",
     "output_type": "stream",
     "text": [
      "Test case 1:\n",
      "Cosine distance matches up with scipy implementation\n",
      "\n",
      "Test case 2:\n",
      "Cosine distance matches up with scipy implementation\n"
     ]
    }
   ],
   "source": [
    "print('Test case 1:')\n",
    "x1 = np.array([0,1,2,3,4,5,6,7,8,9])\n",
    "y1 = np.array([10,20,5,0,11,77,1,90,1000,1])\n",
    "cos1 = cosine_distance(x1, y1)\n",
    "cos2 = sp.spatial.distance.cosine(x1, y1)\n",
    "if cos1 == cos2:\n",
    "    print(\"Cosine distance matches up with scipy implementation\")\n",
    "else:\n",
    "    print(\"Cosine distance DOES NOT match up with scipy implementation\")\n",
    "    \n",
    "print('\\nTest case 2:')\n",
    "x2 = np.array([10.9,91,42,63,44,35,67,71,28,9999])\n",
    "y2 = np.array([100.113,120,43,10,99,7,1000,0,2,1.3])\n",
    "cos1 = cosine_distance(x2, y2)\n",
    "cos2 = sp.spatial.distance.cosine(x2, y2)\n",
    "if cos1 == cos2:\n",
    "    print(\"Cosine distance matches up with scipy implementation\")\n",
    "else:\n",
    "    print(\"Cosine distance DOES NOT match up with scipy implementation\")"
   ]
  },
  {
   "cell_type": "markdown",
   "metadata": {
    "deletable": false,
    "editable": false,
    "nbgrader": {
     "checksum": "946f5d4dd165d3f3b82d31927421257d",
     "grade": false,
     "grade_id": "cell-98195f6a5367c49a",
     "locked": true,
     "schema_version": 1,
     "solution": false
    }
   },
   "source": [
    "#### 5. (1 point) Describe an example situation where Cosine distance would be preferable to Euclidean distance. We want two parts to this: First, explain a fundamental property where Cosine distance differs from Euclidean. Second, give an example situation (relating to audio) where that property would be an advantage."
   ]
  },
  {
   "cell_type": "markdown",
   "metadata": {
    "deletable": false,
    "nbgrader": {
     "checksum": "1bc39c05007227cbfb552dc12db72104",
     "grade": true,
     "grade_id": "cell-c78f41e8f53b0b81",
     "locked": false,
     "points": 1,
     "schema_version": 1,
     "solution": true
    }
   },
   "source": [
    "Cosine distance depends only on the angle subtended from the origin between the 2 points, and does not depend on difference in magnitudes of the 2 vectors. On the other hand, the euclidean distance varies as the magnitude or direction of any of the vectors change. Thus, cosine distance is very useful in audio analysis when we don't care about differences in loudness of 2 timeseries audio signals. Specifically, in the case where we have 2 samples of the same song with one clip louder than the other. Then, the distance should be 0 since they are the same song, just that one is louder. Cosine distance in this case would be 0, while euclidean distance would be non-zero."
   ]
  },
  {
   "cell_type": "markdown",
   "metadata": {},
   "source": [
    "## IMPLEMENT A K-NEAREST NEIGHBOR CLASSIFIER\n",
    "\n",
    "#### 6. (2 points) Implement a K-nearest-neighbor classifier that can use either Euclidean distance or Cosine distance. (Use the Scipy package for distance meatures)\n"
   ]
  },
  {
   "cell_type": "code",
   "execution_count": 90,
   "metadata": {
    "deletable": false,
    "nbgrader": {
     "checksum": "6c7e0a3a8f1e5e23c7e57e760da8d044",
     "grade": false,
     "grade_id": "cell-a1443bbaecc1b976",
     "locked": false,
     "schema_version": 1,
     "solution": true
    }
   },
   "outputs": [],
   "source": [
    "def knn(data_X, data_Y, query_X, dist_measure, k):\n",
    "    \"\"\"\n",
    "    Takes a data set of examples encoded as feature vectors, along with the label for each example in the data. \n",
    "    It also takes in a set of queries, for which we want to know the labels. It finds the distance from each \n",
    "    query_X to each example in data_X. It returns a label for each example in query_X by picking the most \n",
    "    popular label from the k nearest neighbors in data_X. Distance is determined by the selected distance metric.\n",
    "    \n",
    "    Input Parameters\n",
    "    ----------------\n",
    "    data_X: a 2-D numpy array with a shape of (the number of examples in the data, the number of features).\n",
    "    data_Y: a 1-D numpy array containing integer labels for the examples in data_X. \n",
    "            The labels should be encoded as integer values BEFORE they are passed this function.\n",
    "            (E.g., [class1, class1, class2, class1] ==> [0, 0, 1, 0])\n",
    "    query_X: a 2-D numpy array with a shape of (the number of query examples, the number of features). \n",
    "            Note, the query_X must have the same number of features, in the same order as the data_X \n",
    "    dist_measure: a string determining which distance measure to use. ('euclidean' or 'cosine')\n",
    "    k: the number of nearest neighbors in the data to consider, when labeling a query\n",
    "    \n",
    "    Returns\n",
    "    ----------------\n",
    "    query_Y: a 1-D numpy array of integer values referring to predicted labels for the set of queries\n",
    "    \"\"\"\n",
    "    query_Y = []\n",
    "    for query in query_X:\n",
    "        # Choosing the scipy distance function\n",
    "        dist_function = sp.spatial.distance.euclidean if dist_measure == 'euclidean' else sp.spatial.distance.cosine\n",
    "        distances = []  # array of (distance, label) tuples, easy to process after sorting on distance\n",
    "        for i in range(len(data_X)):\n",
    "            distances.append((dist_function(data_X[i], query), data_Y[i]))\n",
    "        distances = sorted(distances, key = lambda x: x[0])  #sort distances array by distances\n",
    "        # candidates is an array containing labels of the k nearest neighbors\n",
    "        if k<len(data_X):\n",
    "            candidates = distances[0:k]\n",
    "        else:\n",
    "            candidates = distances[:]\n",
    "        candidates = (np.array(candidates)[:,1]).astype(int)\n",
    "        label = np.argmax(np.bincount(candidates))  # most common label from candidates\n",
    "        query_Y.append(label)\n",
    "    return np.array(query_Y)"
   ]
  },
  {
   "cell_type": "code",
   "execution_count": 91,
   "metadata": {
    "deletable": false,
    "editable": false,
    "nbgrader": {
     "checksum": "aab8e33af290169e54f21741ac175324",
     "grade": true,
     "grade_id": "cell-1e7e081dd82b94ce",
     "locked": true,
     "points": 2,
     "schema_version": 1,
     "solution": false
    }
   },
   "outputs": [],
   "source": [
    "# you can leave this cell blank - it's for the auto-grader"
   ]
  },
  {
   "cell_type": "markdown",
   "metadata": {
    "deletable": false,
    "editable": false,
    "nbgrader": {
     "checksum": "55b72457afb3e75611ce38d7880a271c",
     "grade": false,
     "grade_id": "cell-dd0b482c2c08397d",
     "locked": true,
     "schema_version": 1,
     "solution": false
    }
   },
   "source": [
    "#### 7. (1 point) Generate a toy test case that would make different classification choices, depending on which metric (Euclidean or Cosine) you choose.  Before running the actual code, in this problem, you are going to classify test data by eye-balling it.\n",
    "\n",
    "1) Generate a training set of 10 data points with 2 features (i.e. 2-dimensional vectors) and 2 classes. The training set should include two numpy array: train_X of shape (10, 2) and train_Y of shape (10, ). train_Y contains 0 or 1 each of which indicates the first class and the second class.\n",
    "\n",
    "2) Plot the training set on 2-D feature space with color coded classes, so we can tell which one belongs to which class.\n",
    "\n",
    "3) Generate a test set of 3 data points with 2 features. The test set should include two numpy array: test_X of shape (3, 2). Plot them on the figure you created in the previous step. Use a color that was not used for the trainng set.\n",
    "\n",
    "4) Make sure the figure has a proper legend so we can tell which data points are training data of class1 or class2, or testing data.\n",
    "\n",
    "5) Perform KNN classification by eye-balling it (**K=3**). Tell the predicted class of each testing data point if you use Euclidean distance. \n",
    "\n",
    "6) Perform KNN classification AGAIN by eye-balling it (**K=3**). Tell the predicted class of each testing data point if you use Cosine distance. "
   ]
  },
  {
   "cell_type": "code",
   "execution_count": 92,
   "metadata": {
    "deletable": false,
    "nbgrader": {
     "checksum": "ad5ff8da351613120afc78d3d7a7731a",
     "grade": true,
     "grade_id": "cell-8426109502145d91",
     "locked": false,
     "points": 0.5,
     "schema_version": 1,
     "solution": true
    }
   },
   "outputs": [
    {
     "data": {
      "image/png": "[encoded data removed]",
      "text/plain": [
       "<Figure size 432x288 with 1 Axes>"
      ]
     },
     "metadata": {
      "needs_background": "light"
     },
     "output_type": "display_data"
    }
   ],
   "source": [
    "train_X = np.array([[5,3], [1,10], [0,2], [3,5], [1,4], [1,0], [10,10], [3,3], [1,1], [9,9]])\n",
    "train_Y = np.array([0, 1, 1, 0, 1, 0, 1, 1, 0, 1])\n",
    "test_X = np.array([[0,1], [1,6], [4,4]]) \n",
    "\n",
    "fig, ax = plt.subplots()\n",
    "label1 = 'Class0'\n",
    "label2 = 'Class1'\n",
    "\n",
    "for i in range(len(train_X)):\n",
    "    x, y = train_X[i]\n",
    "    if train_Y[i] == 0:\n",
    "        # plot class 0 points in red\n",
    "        ax.scatter(x, y, c='red', label=label1)\n",
    "        label1 = None\n",
    "    else:\n",
    "        # plot class 1 points in green\n",
    "        ax.scatter(x, y, c ='green', label=label2)\n",
    "        label2 = None\n",
    "    \n",
    "# plot testing points in red\n",
    "ax.scatter(test_X[:,0], test_X[:,1], c='blue', label='Testing data')\n",
    "\n",
    "ax.legend()\n",
    "plt.show()"
   ]
  },
  {
   "cell_type": "code",
   "execution_count": 93,
   "metadata": {
    "deletable": false,
    "nbgrader": {
     "checksum": "4c34984db1cbea28861313289c4f2ff5",
     "grade": true,
     "grade_id": "cell-f7204e4e6b1ebb7a",
     "locked": false,
     "points": 0.5,
     "schema_version": 1,
     "solution": true
    }
   },
   "outputs": [],
   "source": [
    "# The predicted labels of the testing data, given Euclidean distance\n",
    "test_Y_euclidean = np.array([0, 1, 0])\n",
    "# easy to eyeball these by looking at simple euclidean distance\n",
    "\n",
    "# The predicted labels of the testing data, given Cosine distance\n",
    "test_Y_cosine = np.array([1, 1, 1]) \n",
    "# assign the label that is most common among the 3 training points that are the closest to the test point in terms of angle between them"
   ]
  },
  {
   "cell_type": "markdown",
   "metadata": {
    "deletable": false,
    "editable": false,
    "nbgrader": {
     "checksum": "57afdedc9845088d3332c8d71992ef7f",
     "grade": false,
     "grade_id": "cell-3c8fccf192fb6223",
     "locked": true,
     "schema_version": 1,
     "solution": false
    }
   },
   "source": [
    "#### 8. (1 point) Test your implementation of KNN (K=3) with the training and testing set you generated from question 7 and compare the predicted labels from your code with labels you predicted in question 7."
   ]
  },
  {
   "cell_type": "code",
   "execution_count": 96,
   "metadata": {
    "deletable": false,
    "nbgrader": {
     "checksum": "6b147a66b6e6e2844d6d949df291ba10",
     "grade": true,
     "grade_id": "cell-678ba5473c172ab2",
     "locked": false,
     "points": 1,
     "schema_version": 1,
     "solution": true
    }
   },
   "outputs": [
    {
     "name": "stdout",
     "output_type": "stream",
     "text": [
      "The predicted labels of the testing data, given Euclidean distance:\n",
      "[0 1 0]\n",
      "The predicted labels of the testing data, given Cosine distance:\n",
      "[1 1 1]\n"
     ]
    }
   ],
   "source": [
    "test_euclidean_knn = knn(train_X, train_Y, test_X, 'euclidean', 3)\n",
    "test_cosine_knn = knn(train_X, train_Y, test_X, 'cosine', 3)\n",
    "print('The predicted labels of the testing data, given Euclidean distance:')\n",
    "print(test_euclidean_knn)\n",
    "print('The predicted labels of the testing data, given Cosine distance:')\n",
    "print(test_cosine_knn)"
   ]
  },
  {
   "cell_type": "markdown",
   "metadata": {
    "deletable": false,
    "editable": false,
    "nbgrader": {
     "checksum": "51838594ab2dc23122ea112e979c404a",
     "grade": false,
     "grade_id": "cell-fbcce8e7e706c024",
     "locked": true,
     "schema_version": 1,
     "solution": false
    }
   },
   "source": [
    "#### 9. (1 point) Implement an evaluation function that takes a vector of true labels and a vector of predicted labels and outputs classification accuracy and a confusion matrix. "
   ]
  },
  {
   "cell_type": "code",
   "execution_count": 113,
   "metadata": {
    "deletable": false,
    "nbgrader": {
     "checksum": "31a5755c1c1c8dc1017009297764c329",
     "grade": false,
     "grade_id": "cell-286eff62194138af",
     "locked": false,
     "schema_version": 1,
     "solution": true
    }
   },
   "outputs": [],
   "source": [
    "def evaluation(pred, truth, n_classes):\n",
    "    '''\n",
    "    Takes a set of predicted labels and ground truth labels, and compute the classification accuracy. \n",
    "    Input Parameters\n",
    "    ----------------\n",
    "    pred: a 1-D numpy array of integer values which refer to labels predicted from a classifier.\n",
    "    truth: a 1-D numpy array of integer values which refer to ground truth labels\n",
    "    n_classes: a number of classes in your dataset.\n",
    "\n",
    "    \n",
    "    Returns\n",
    "    -----------------\n",
    "    accuracy: a float number indicating the classification accuracy as a number in the range 0 to 1.\n",
    "    confusion: a n-D numpy array of confusion matrix with the shape of (n_classes, n_classes)\n",
    "\n",
    "    '''\n",
    "    num_correct = 0\n",
    "    confusion = np.zeros((n_classes, n_classes)).astype(int)\n",
    "    for i in range(len(pred)):\n",
    "        prediction = pred[i]\n",
    "        actual = truth[i]\n",
    "        if(prediction == actual):\n",
    "            num_correct = num_correct + 1\n",
    "        confusion[actual][prediction] = confusion[actual][prediction]+1\n",
    "    accuracy = num_correct/len(pred)\n",
    "    return accuracy, confusion"
   ]
  },
  {
   "cell_type": "code",
   "execution_count": 114,
   "metadata": {
    "deletable": false,
    "editable": false,
    "nbgrader": {
     "checksum": "6d2873cdc52c78caf984c2663660c323",
     "grade": true,
     "grade_id": "cell-055d8c616f5e3b64",
     "locked": true,
     "points": 1,
     "schema_version": 1,
     "solution": false
    }
   },
   "outputs": [],
   "source": [
    "# you don't need to put anything here, this cell is for the autograder"
   ]
  },
  {
   "cell_type": "markdown",
   "metadata": {
    "deletable": false,
    "editable": false,
    "nbgrader": {
     "checksum": "ace6242b59d78893c63274222fbdead5",
     "grade": false,
     "grade_id": "cell-5c3d918a0aff8218",
     "locked": true,
     "schema_version": 1,
     "solution": false
    }
   },
   "source": [
    "#### 10. (1 point) Now complete the *KNN_testing* function to test your KNN classifier on a real dataset. You can load the dataset by calling *load_dataset* provided below. It returns training set and testing set of two classes. Build a KNN classifier on the training set and evaulate it on the provided testing set using the functions you implemented in the previous question.\n",
    "\n",
    "* *NOTE: When running KNN, set K=2 and use euclidean distance*"
   ]
  },
  {
   "cell_type": "code",
   "execution_count": 120,
   "metadata": {
    "deletable": false,
    "nbgrader": {
     "checksum": "e49798c530fa6ace5bf418a38348da22",
     "grade": false,
     "grade_id": "cell-22bc87173f8ebd45",
     "locked": false,
     "schema_version": 1,
     "solution": true
    }
   },
   "outputs": [
    {
     "name": "stdout",
     "output_type": "stream",
     "text": [
      "Accuracy: 0.925\n",
      "Confusion matrix array:\n",
      "[[19  1]\n",
      " [ 2 18]]\n"
     ]
    }
   ],
   "source": [
    "def load_dataset():\n",
    "    \n",
    "    iris = load_iris()\n",
    "    data_X = iris.data\n",
    "    data_Y = iris.target\n",
    "    data_X_class1 = data_X[data_Y==1, :]\n",
    "    data_X_class2 = data_X[data_Y==2, :]\n",
    "    train_X = np.vstack((data_X_class1[:30, :], data_X_class2[:30, :]))\n",
    "    train_Y = np.array([0]*30+[1]*30)\n",
    "    test_X = np.vstack((data_X_class1[30:, :], data_X_class2[30:, :]))\n",
    "    test_Y = np.array([0]*20+[1]*20)\n",
    "\n",
    "    return train_X, train_Y, test_X, test_Y\n",
    "\n",
    "def KNN_testing():\n",
    "    \n",
    "    '''\n",
    "    Returns\n",
    "    -----------------\n",
    "    accuracy: a float number indicating the classification accuracy as a number in the range 0 to 1.\n",
    "    confusion: a 2-D numpy array of confusion matrix.\n",
    "    '''\n",
    "    \n",
    "    # data loading\n",
    "    train_X, train_Y, test_X, test_Y = load_dataset()\n",
    "    predicted_Y = knn(train_X, train_Y, test_X, 'euclidean', 2)\n",
    "    accuracy, confusion = evaluation(predicted_Y, test_Y, 2)\n",
    "    return accuracy, confusion\n",
    "\n",
    "# testing it for myself\n",
    "acc, confusion = KNN_testing()\n",
    "print('Accuracy: '+ str(acc))\n",
    "print('Confusion matrix array:')\n",
    "print(confusion)"
   ]
  },
  {
   "cell_type": "code",
   "execution_count": 102,
   "metadata": {
    "deletable": false,
    "editable": false,
    "nbgrader": {
     "checksum": "022cf1750be4a5c9456fb3efcb3aece6",
     "grade": true,
     "grade_id": "cell-54917582202f695d",
     "locked": true,
     "points": 1,
     "schema_version": 1,
     "solution": false
    }
   },
   "outputs": [],
   "source": [
    "# you don't need to put anything here, this cell is for the autograder"
   ]
  },
  {
   "cell_type": "markdown",
   "metadata": {
    "deletable": false,
    "editable": false,
    "nbgrader": {
     "checksum": "aaee0c6e5ce90b1fd4c16bc8d21f0a09",
     "grade": false,
     "grade_id": "cell-34d6e63bccb26d7c",
     "locked": true,
     "schema_version": 1,
     "solution": false
    }
   },
   "source": [
    "# Audio classification\n",
    "\n",
    "#### In the lecture, we have walked you through the procedure of door knock/phone rining classification. In the following questions, you are going to go through the same procedure, but with different dataset. In this homework, you are going to use ESC-50 [https://github.com/karoldvl/ESC-50] dataset. \n",
    "\n",
    "1. Open `./dataset/meta/esc50.csv` in the dataset. It contains a list of file names and their labels. While the csv files contains 2000 file names, you are going to use only two classes of audio events: *sneezing and snoring*. We included the audio files of *sneezing and snoring* in the homework (`./dataset/audio/`), so you do not need to download the dataset from the official website.\n",
    "\n",
    "2. As shown in `./dataset/meta/esc50.csv`, there are 40 examples per class and the 40 examples are split into 5 folds. You are going to use folds 1-3 as a training set and 4-5 as a testing set. Since each fold contains 8 examples and you are using two classes, you will end up with 48 training examples (24 sneezings, 24 snorings) and 32 testing examples (16 sneezings, 16 snorings)."
   ]
  },
  {
   "cell_type": "markdown",
   "metadata": {
    "deletable": false,
    "editable": false,
    "nbgrader": {
     "checksum": "b9e5a1045b2bd8be23b5a820a03e3e0b",
     "grade": false,
     "grade_id": "cell-a68a6fb9be0089c4",
     "locked": true,
     "schema_version": 1,
     "solution": false
    }
   },
   "source": [
    "#### 11. (2 points) Implement a feature extraction function. It takes an audio file path, extract audio features, and outputs a single feature vector. \n",
    "\n",
    "* Extract [zero-crossing rate](https://librosa.github.io/librosa/generated/librosa.feature.zero_crossing_rate.html) and [spectral centroid](https://librosa.github.io/librosa/generated/librosa.feature.spectral_centroid.html) using librosa package (window length: 2048, hop size: 1024). \n",
    "* Do feature summarization to convert a series of feature vectors into a single feature vector. Use mean and delta-mean."
   ]
  },
  {
   "cell_type": "code",
   "execution_count": 118,
   "metadata": {
    "deletable": false,
    "nbgrader": {
     "checksum": "b487eb7cdc402bb80830fdbeb6e04939",
     "grade": false,
     "grade_id": "cell-fb09bb52123dade8",
     "locked": false,
     "schema_version": 1,
     "solution": true
    }
   },
   "outputs": [],
   "source": [
    "def feature_extraction(file_path):\n",
    "    '''\n",
    "    Takes an audio file path, read the audio (keep the original sampling rate), \n",
    "    extract audio features from the audio, and outputs a single feature vector containing\n",
    "    [mean-zero-crossing-rate, mean-delta-zero-crossing-rate, mean-spectral-centroid, mean-delta-spectral-centroid]\n",
    "    \n",
    "    Input Parameters\n",
    "    ----------------\n",
    "    file_path: a string indicating a path to an audio file.\n",
    "    \n",
    "    Returns\n",
    "    ----------------\n",
    "    feature_vector: a 1-D numpy array of an extracted feature vector.\n",
    "    '''\n",
    "    x, sr = librosa.load(file_path)  #load timeseries data in x\n",
    "    # use librosa functions to extract features\n",
    "    zero_crossing_rate = librosa.feature.zero_crossing_rate(x, frame_length=2048, hop_length=1024)\n",
    "    delta_zero_crossing = librosa.feature.delta(zero_crossing_rate)\n",
    "    spectral_centroid = librosa.feature.spectral_centroid(y=x, sr=sr, n_fft=2048, hop_length=1024)\n",
    "    delta_spectral = librosa.feature.delta(spectral_centroid)\n",
    "    # take the means and store in feature vector\n",
    "    feature_vector = np.array([np.mean(zero_crossing_rate), np.mean(delta_zero_crossing), np.mean(spectral_centroid), np.mean(delta_spectral)])\n",
    "    return feature_vector"
   ]
  },
  {
   "cell_type": "code",
   "execution_count": null,
   "metadata": {
    "deletable": false,
    "editable": false,
    "nbgrader": {
     "checksum": "ad9b18cbf03ad56bab53fcb4fb982bf4",
     "grade": true,
     "grade_id": "cell-66ad6bd1b8a1d929",
     "locked": true,
     "points": 2,
     "schema_version": 1,
     "solution": false
    }
   },
   "outputs": [],
   "source": [
    "# you don't need to put anything here, this cell is for the autograder"
   ]
  },
  {
   "cell_type": "markdown",
   "metadata": {
    "deletable": false,
    "editable": false,
    "nbgrader": {
     "checksum": "7f452255dde7e6077987a22ad0c222b3",
     "grade": false,
     "grade_id": "cell-8361a15f4c733c25",
     "locked": true,
     "schema_version": 1,
     "solution": false
    }
   },
   "source": [
    "#### 12. (1 point) Implement following two functions: 1) a function constructing feature vectors from all the training and testing data and encoding labels of them and 2) a function recaling the feature vectors.\n",
    "   * To collect file names of all the data you need, you can use the provided function *collect_filenames*.\n",
    "   * For feature extraction, use *feature_extraction* function you built from the previous question.\n",
    "   * The labels should be encoded as an integer value: (Sneezing:0, snoring:1) \n",
    "   * Rescale each feature to a range (0, 1) using [sklearn.preprocessing.MinMaxScaler](https://scikit-learn.org/stable/modules/generated/sklearn.preprocessing.MinMaxScaler.html).  \n",
    "   * The scaling factor should be learned from the **entire training set** including both sneezing and snoring class\n",
    "   * The scaling factor should **NOT** be learned from the **testing set** because we should assume that your classifer never have access to testing data before it is tested. Therefore, you first learn scaling factor from trianing set only and apply the learned scaler to both training and testing data."
   ]
  },
  {
   "cell_type": "code",
   "execution_count": 119,
   "metadata": {
    "deletable": false,
    "editable": false,
    "nbgrader": {
     "checksum": "39f47e781c7456c60494626939070658",
     "grade": false,
     "grade_id": "cell-46cf6da2521ae86b",
     "locked": true,
     "schema_version": 1,
     "solution": false
    }
   },
   "outputs": [],
   "source": [
    "def collect_filenames(path_to_esc50_csv):\n",
    "    \n",
    "    '''\n",
    "    Collect file names for training and testing set from `./dataset/meta/esc50.csv`. \n",
    "\n",
    "    Input Parameters\n",
    "    ----------------\n",
    "    path_to_esc50_csv: a string indicating a path to esc50.csv in ESC50 dataset.\n",
    "    \n",
    "    \n",
    "    Returns\n",
    "    ----------------\n",
    "    train_filenames: a dictionary containing file names of training set. \n",
    "                    Its keys are each class name: 'sneezing', 'snoring' \n",
    "    test_filenames: a dictionary containing file names of testing set. \n",
    "                    Its keys are each class name: 'sneezing', 'snoring' \n",
    "    '''\n",
    "    train_filenames = {'sneezing':[], 'snoring':[]}\n",
    "    test_filenames = {'sneezing':[], 'snoring':[]}\n",
    "    \n",
    "    with open(path_to_esc50_csv) as csvfile:\n",
    "        reader = csv.DictReader(csvfile)\n",
    "        for row in reader:\n",
    "            if row['category'] == 'sneezing':\n",
    "                if int(row['fold']) in [1, 2, 3]:\n",
    "                    train_filenames['sneezing'].append(row['filename'])\n",
    "                else:\n",
    "                    test_filenames['sneezing'].append(row['filename'])\n",
    "            if row['category'] == 'snoring':\n",
    "                if int(row['fold']) in [1, 2, 3]:\n",
    "                    train_filenames['snoring'].append(row['filename'])\n",
    "                else:\n",
    "                    test_filenames['snoring'].append(row['filename'])\n",
    "    \n",
    "    return train_filenames, test_filenames"
   ]
  },
  {
   "cell_type": "code",
   "execution_count": 132,
   "metadata": {
    "deletable": false,
    "nbgrader": {
     "checksum": "0c9aeef69960e076aaece2b92c637a93",
     "grade": true,
     "grade_id": "cell-01853877278942d4",
     "locked": false,
     "points": 1,
     "schema_version": 1,
     "solution": true
    }
   },
   "outputs": [],
   "source": [
    "def data_preperation():\n",
    "    \n",
    "    '''\n",
    "    construct feature vectors from all the training and testing data and encoding labels of them\n",
    "    \n",
    "    Returns\n",
    "    ----------------\n",
    "    train_X: a 2-D numpy array with a shape of (the number of training examples, the number of features).\n",
    "    train_Y: a 1-D numpy array containing integer labels for training examples.\n",
    "            Encode \"sneezing\" to 0 and \"snoring\" to 1.\n",
    "    \n",
    "    test_X: a 2-D numpy array with a shape of (the number of testing examples, the number of features).\n",
    "    test_Y: a 1-D numpy array containing integer labels for tesing examples.\n",
    "            Encode \"sneezing\" to 0 and \"snoring\" to 1.\n",
    "    '''\n",
    "\n",
    "    train_filenames, test_filenames = collect_filenames('./dataset/meta/esc50.csv')\n",
    "    # construct feature vectors for training data\n",
    "    num_training_examples = len(train_filenames['sneezing']) + len(train_filenames['snoring'])\n",
    "    num_features = 4  # we know there are 4 features based on the function we wrote\n",
    "    train_X = np.zeros((num_training_examples, num_features))\n",
    "    train_Y = np.zeros(num_training_examples)\n",
    "    \n",
    "    i = 0\n",
    "    for filepath in train_filenames['sneezing']:\n",
    "        train_X[i,:] = feature_extraction('./dataset/audio/'+filepath)\n",
    "        train_Y[i] = 0  # sneezing encoded as 0\n",
    "        i = i+1\n",
    "    for filepath in train_filenames['snoring']:\n",
    "        train_X[i,:] = feature_extraction('./dataset/audio/'+filepath)\n",
    "        train_Y[i] = 1  # snoring encoding as 1\n",
    "        i = i+1\n",
    "    \n",
    "    train_Y = np.array(train_Y).astype(int)  # ensure that labels encoded as integers\n",
    "    \n",
    "    # construct feature vectors for testing data\n",
    "    num_testing_examples = len(test_filenames['sneezing']) + len(test_filenames['snoring'])\n",
    "    test_X = np.zeros((num_testing_examples, num_features))\n",
    "    test_Y = np.zeros(num_testing_examples)\n",
    "    \n",
    "    i = 0\n",
    "    for filepath in test_filenames['sneezing']:\n",
    "        test_X[i,:] = feature_extraction('./dataset/audio/'+filepath)\n",
    "        test_Y[i] = 0  # sneezing encoded as 0\n",
    "        i = i+1\n",
    "    for filepath in test_filenames['snoring']:\n",
    "        test_X[i,:] = feature_extraction('./dataset/audio/'+filepath)\n",
    "        test_Y[i] = 1  # snoring encoding as 1\n",
    "        i = i+1\n",
    "    \n",
    "    test_Y = np.array(test_Y).astype(int)  # ensure that labels encoded as integers\n",
    "    \n",
    "    return train_X, train_Y, test_X, test_Y\n",
    "\n",
    "\n",
    "def feature_rescaling(train_X, test_X):\n",
    "    \n",
    "    '''\n",
    "\n",
    "    Input Parameters\n",
    "    ----------------\n",
    "    train_X: a 2-D numpy array with a shape of (the number of training examples, the number of features).\n",
    "    test_X: a 2-D numpy array with a shape of (the number of testing examples, the number of features).\n",
    "    \n",
    "    Returns\n",
    "    ----------------\n",
    "    train_rescaled_X: the rescaled version of train_X\n",
    "                    a 2-D numpy array with a shape of (the number of training examples, the number of features).\n",
    "    test_rescaled_X : the rescaled version of test_X\n",
    "                    a 2-D numpy array with a shape of (the number of testing examples, the number of features).\n",
    "    \n",
    "    '''\n",
    "    scaler = sklearn.preprocessing.MinMaxScaler()\n",
    "    scaler.fit(train_X)  #scaler learnt only from training set\n",
    "    train_rescaled_X = scaler.transform(train_X)\n",
    "    test_rescaled_X = scaler.transform(test_X)\n",
    "        \n",
    "    return train_rescaled_X, test_rescaled_X"
   ]
  },
  {
   "cell_type": "markdown",
   "metadata": {
    "deletable": false,
    "editable": false,
    "nbgrader": {
     "checksum": "94294a7c2c62034ca6e2fa4e8aa090d7",
     "grade": false,
     "grade_id": "cell-9e0275c6dbb694e3",
     "locked": true,
     "schema_version": 1,
     "solution": false
    }
   },
   "source": [
    "#### 13. (1 point) Your feature extractor outputs *mean-zero-crossing-rate, mean-delta-zero-crossing-rate, mean-spectral-centroid, mean-delta-spectral-centroid*. If you want to represent the data from the ESC-50 data set in a 2-d scatter plot, you'll need to pick just two of those features. Pick the pair of features that best separates sneezing examples from snoring examples. Plot the data using that pair of features. Be sure to make markers for dots different for different classes and to label the graph so we can tell which dots belong to which class. Label the figure's axes appropriately, so it is obvious which features you chose.\n",
    "\n",
    "* Note: Use the rescaled feature vectors from the previous question."
   ]
  },
  {
   "cell_type": "code",
   "execution_count": 175,
   "metadata": {
    "deletable": false,
    "nbgrader": {
     "checksum": "105e7f81acd683c195b1de7619cdea52",
     "grade": true,
     "grade_id": "cell-db068e04d772640c",
     "locked": false,
     "points": 1,
     "schema_version": 1,
     "solution": true
    }
   },
   "outputs": [
    {
     "data": {
      "image/png": "[encoded data removed]",
      "text/plain": [
       "<Figure size 432x288 with 1 Axes>"
      ]
     },
     "metadata": {
      "needs_background": "light"
     },
     "output_type": "display_data"
    }
   ],
   "source": [
    "train_X, train_Y, test_X, test_Y = data_preperation()\n",
    "train_rescaled_X, test_rescaled_X = feature_rescaling(train_X, test_X)\n",
    "fig, ax = plt.subplots()\n",
    "label1 = 'Sneezing'\n",
    "label2 = 'Snoring'\n",
    "\n",
    "for i in range(len(train_rescaled_X)):\n",
    "    f1, f2, f3, f4 = train_rescaled_X[i]\n",
    "    # f1 = mean zero crossing rate\n",
    "    # f2 = mean delta zero crossing rate\n",
    "    # f3 = mean spectral centroid\n",
    "    # f4 = mean delta spectral centroid\n",
    "    if train_Y[i] == 0:\n",
    "        # plot class 0 points in red\n",
    "        ax.scatter(f1, f3, c='red', label=label1)\n",
    "        label1 = None\n",
    "    else:\n",
    "        # plot class 1 points in green\n",
    "        ax.scatter(f1, f3, c ='green', label=label2)\n",
    "        label2 = None\n",
    "\n",
    "fig.text(0.5, 0.04, 'Mean zero crossing rate', ha='center')\n",
    "fig.text(0.04, 0.5, 'Mean spectral centroid', va='center', rotation='vertical')\n",
    "ax.legend()\n",
    "plt.show()"
   ]
  },
  {
   "cell_type": "markdown",
   "metadata": {
    "deletable": false,
    "editable": false,
    "nbgrader": {
     "checksum": "92fa15045e2b4158717c4933c2598332",
     "grade": false,
     "grade_id": "cell-bc2cebf3f1918c56",
     "locked": true,
     "schema_version": 1,
     "solution": false
    }
   },
   "source": [
    "#### 14 (1 point) Test your KNN classifier on the testing examples and report its accuracy and confusion matrix. Use the functions you implemented in previous questions: *data_preperation*, *feature_rescaling*, *knn*,  and *evaluation* . Explain about your results. What do the accuracy and confusion matrix tell about your classifier?\n",
    "* Use all the extracted features (Mean-zcr, Delta-mean-zcr, Mean-sc, Delta-mean-sc)\n",
    "* Use the rescaled version of features from question 12\n",
    "* When running a KNN classifier, set K=1 and use euclidean distance as a distance measure.\n"
   ]
  },
  {
   "cell_type": "code",
   "execution_count": 150,
   "metadata": {
    "deletable": false,
    "nbgrader": {
     "checksum": "e38416371a12c660b0db2a361b4bf93a",
     "grade": true,
     "grade_id": "cell-8bf5236b322abcd2",
     "locked": false,
     "points": 0.5,
     "schema_version": 1,
     "solution": true
    }
   },
   "outputs": [
    {
     "name": "stdout",
     "output_type": "stream",
     "text": [
      "Accuracy: 0.78125\n",
      "Confusion matrix array:\n",
      "[[11  5]\n",
      " [ 2 14]]\n"
     ]
    }
   ],
   "source": [
    "train_X, train_Y, test_X, test_Y = data_preperation()\n",
    "train_rescaled_X, test_rescaled_X = feature_rescaling(train_X, test_X)\n",
    "predicted_Y = knn(train_rescaled_X, train_Y, test_rescaled_X, 'euclidean', 1)\n",
    "accuracy, confusion = evaluation(predicted_Y, test_Y, 2)\n",
    "print('Accuracy: '+str(accuracy))\n",
    "print('Confusion matrix array:')\n",
    "print(confusion)"
   ]
  },
  {
   "cell_type": "markdown",
   "metadata": {
    "deletable": false,
    "nbgrader": {
     "checksum": "293c8bf34796a702ea6700a54368ee75",
     "grade": true,
     "grade_id": "cell-afc41edef458d8a5",
     "locked": false,
     "points": 0.5,
     "schema_version": 1,
     "solution": true
    }
   },
   "source": [
    "An accuracy of 0.78125 means that 78.125% of the test data was classified correctly. The confusion matrix gives more information, letting us know that 2 out of the 13 'Sneezing' test points were incorrectly labelled as 'Snoring', and 5 of the 19 'Snoring' test points were incorrectly labelled as 'Sneezing'."
   ]
  },
  {
   "cell_type": "markdown",
   "metadata": {
    "deletable": false,
    "editable": false,
    "nbgrader": {
     "checksum": "7e0fe027f695cd61b7cd6ffd226bb255",
     "grade": false,
     "grade_id": "cell-638ae83eb574dd66",
     "locked": true,
     "schema_version": 1,
     "solution": false
    }
   },
   "source": [
    "#### 15 (2 point) Now test your KNN classifier  with different values of K (1 to 5) and different distance measures (Euclidean and cosine) to find the setting which maximizes accuracy. Include a figure showing how accuracy changes with different combinations of K and distance measrure. The figure should include results from the 10 combinations (5 different values of K, 2 different distance metrics)."
   ]
  },
  {
   "cell_type": "code",
   "execution_count": 171,
   "metadata": {
    "deletable": false,
    "nbgrader": {
     "checksum": "0a112a8f40a7ccb592f8a0da14a252f1",
     "grade": true,
     "grade_id": "cell-7e8c0443b32b6db6",
     "locked": false,
     "points": 2,
     "schema_version": 1,
     "solution": true
    }
   },
   "outputs": [
    {
     "data": {
      "image/png": "[encoded data removed]",
      "text/plain": [
       "<Figure size 432x288 with 1 Axes>"
      ]
     },
     "metadata": {
      "needs_background": "light"
     },
     "output_type": "display_data"
    }
   ],
   "source": [
    "train_X, train_Y, test_X, test_Y = data_preperation()\n",
    "train_rescaled_X, test_rescaled_X = feature_rescaling(train_X, test_X)\n",
    "K = range(1,6)  # K = [1,2,3,4,5]\n",
    "\n",
    "euclidean_label = 'Euclidean'\n",
    "cosine_label = 'Cosine'\n",
    "\n",
    "fig, ax = plt.subplots()\n",
    "for k in K:\n",
    "    euclidean_predicted_Y = knn(train_rescaled_X, train_Y, test_rescaled_X, 'euclidean', k)\n",
    "    euclidean_acc, confusion1 = evaluation(euclidean_predicted_Y, test_Y, 2)\n",
    "    cosine_predicted_Y = knn(train_rescaled_X, train_Y, test_rescaled_X, 'cosine', k)\n",
    "    cosine_acc, confusion2 = evaluation(cosine_predicted_Y, test_Y, 2)\n",
    "    ax.scatter(k, euclidean_acc * 100, c='red', label=euclidean_label)\n",
    "    euclidean_label = None\n",
    "    ax.scatter(k, cosine_acc * 100, c='green', label=cosine_label)\n",
    "    cosine_label = None\n",
    "\n",
    "ax.legend()\n",
    "fig.text(0.5, 0.04, 'K value', ha='center')\n",
    "fig.text(0.04, 0.5, 'Accuracy (%)', va='center', rotation='vertical')\n",
    "plt.show()"
   ]
  },
  {
   "cell_type": "markdown",
   "metadata": {
    "deletable": false,
    "editable": false,
    "nbgrader": {
     "checksum": "59d34009d21e8fab00169c8c1c951d83",
     "grade": false,
     "grade_id": "cell-c3192170a15bb292",
     "locked": true,
     "schema_version": 1,
     "solution": false
    }
   },
   "source": [
    "#### 16 (2 point) Try other features provided in Librosa to improve your classifier. Implement a new feature extraction function that extracts those features. You can use new features, in addition to of zero-crossing-rate and spectral centroid or just replace them with new ones. What features improved classification the accuracy? Report classification accuracy of the new classifier on the testing set. How much do the new features improve the performance?"
   ]
  },
  {
   "cell_type": "code",
   "execution_count": 187,
   "metadata": {
    "deletable": false,
    "nbgrader": {
     "checksum": "d3c3868d7ef006b7474de2b71bdb5ba3",
     "grade": true,
     "grade_id": "cell-c77e1c7f3f87f9c9",
     "locked": false,
     "points": 1,
     "schema_version": 1,
     "solution": true
    }
   },
   "outputs": [
    {
     "data": {
      "image/png": "[encoded data removed]",
      "text/plain": [
       "<Figure size 432x288 with 1 Axes>"
      ]
     },
     "metadata": {
      "needs_background": "light"
     },
     "output_type": "display_data"
    }
   ],
   "source": [
    "# rewriting feature extraction and data preparation functions\n",
    "def feature_extraction1(file_path):\n",
    "    x, sr = librosa.load(file_path)  #load timeseries data in x\n",
    "    # use librosa functions to extract features\n",
    "    zero_crossing_rate = librosa.feature.zero_crossing_rate(x, frame_length=2048, hop_length=1024)\n",
    "#     delta_zero_crossing = librosa.feature.delta(zero_crossing_rate)\n",
    "    spectral_centroid = librosa.feature.spectral_centroid(y=x, sr=sr, n_fft=2048, hop_length=1024)\n",
    "#     delta_spectral = librosa.feature.delta(spectral_centroid)\n",
    "    mfcc = librosa.feature.mfcc(y=x, sr=sr)\n",
    "#     delta_mfcc = librosa.feature.delta(mfcc)\n",
    "    # take the means and store in feature vector\n",
    "    feature_vector = np.array([np.mean(mfcc), np.mean(zero_crossing_rate), np.mean(spectral_centroid)])\n",
    "    return feature_vector\n",
    "\n",
    "def data_preperation1():\n",
    "    train_filenames, test_filenames = collect_filenames('./dataset/meta/esc50.csv')\n",
    "    # construct feature vectors for training data\n",
    "    num_training_examples = len(train_filenames['sneezing']) + len(train_filenames['snoring'])\n",
    "    num_features = 3\n",
    "    train_X = np.zeros((num_training_examples, num_features))\n",
    "    train_Y = np.zeros(num_training_examples)\n",
    "    \n",
    "    i = 0\n",
    "    for filepath in train_filenames['sneezing']:\n",
    "        train_X[i,:] = feature_extraction1('./dataset/audio/'+filepath)\n",
    "        train_Y[i] = 0  # sneezing encoded as 0\n",
    "        i = i+1\n",
    "    for filepath in train_filenames['snoring']:\n",
    "        train_X[i,:] = feature_extraction1('./dataset/audio/'+filepath)\n",
    "        train_Y[i] = 1  # snoring encoding as 1\n",
    "        i = i+1\n",
    "    \n",
    "    train_Y = np.array(train_Y).astype(int)  # ensure that labels encoded as integers\n",
    "    \n",
    "    # construct feature vectors for testing data\n",
    "    num_testing_examples = len(test_filenames['sneezing']) + len(test_filenames['snoring'])\n",
    "    test_X = np.zeros((num_testing_examples, num_features))\n",
    "    test_Y = np.zeros(num_testing_examples)\n",
    "    \n",
    "    i = 0\n",
    "    for filepath in test_filenames['sneezing']:\n",
    "        test_X[i,:] = feature_extraction1('./dataset/audio/'+filepath)\n",
    "        test_Y[i] = 0  # sneezing encoded as 0\n",
    "        i = i+1\n",
    "    for filepath in test_filenames['snoring']:\n",
    "        test_X[i,:] = feature_extraction1('./dataset/audio/'+filepath)\n",
    "        test_Y[i] = 1  # snoring encoding as 1\n",
    "        i = i+1\n",
    "    \n",
    "    test_Y = np.array(test_Y).astype(int)  # ensure that labels encoded as integers\n",
    "    \n",
    "    return train_X, train_Y, test_X, test_Y\n",
    "\n",
    "train_X, train_Y, test_X, test_Y = data_preperation1()\n",
    "train_rescaled_X, test_rescaled_X = feature_rescaling(train_X, test_X)\n",
    "K = range(1,6)  # K = [1,2,3,4,5]\n",
    "\n",
    "euclidean_label = 'Euclidean'\n",
    "cosine_label = 'Cosine'\n",
    "\n",
    "fig, ax = plt.subplots()\n",
    "for k in K:\n",
    "    euclidean_predicted_Y = knn(train_rescaled_X, train_Y, test_rescaled_X, 'euclidean', k)\n",
    "    euclidean_acc, confusion1 = evaluation(euclidean_predicted_Y, test_Y, 2)\n",
    "    cosine_predicted_Y = knn(train_rescaled_X, train_Y, test_rescaled_X, 'cosine', k)\n",
    "    cosine_acc, confusion2 = evaluation(cosine_predicted_Y, test_Y, 2)\n",
    "    ax.scatter(k, euclidean_acc * 100, c='red', label=euclidean_label)\n",
    "    euclidean_label = None\n",
    "    ax.scatter(k, cosine_acc * 100, c='green', label=cosine_label)\n",
    "    cosine_label = None\n",
    "\n",
    "ax.legend()\n",
    "plt.title('Updated feature vector with MFCC, without deltas')\n",
    "fig.text(0.5, 0.04, 'K value', ha='center')\n",
    "fig.text(0.04, 0.5, 'Accuracy (%)', va='center', rotation='vertical')\n",
    "plt.show()\n"
   ]
  },
  {
   "cell_type": "markdown",
   "metadata": {
    "deletable": false,
    "nbgrader": {
     "checksum": "5af46358652364978433b5e9bedd99e9",
     "grade": true,
     "grade_id": "cell-c5543d57deb012b0",
     "locked": false,
     "points": 1,
     "schema_version": 1,
     "solution": true
    }
   },
   "source": [
    "By removing the mean delta zero crossing rate and the mean delta spectral centroid, and instead using the MFCC in the feature representation, we are able to drastically improve performance, when using a Euclidean distance measure. As shown in the scatter plot above, the accuracy is close to 90% for all K values from 1-5, with best performance being noted at K=2. The new features improve accuracy by around 15% on average over all values of K. "
   ]
  }
 ],
 "metadata": {
  "kernelspec": {
   "display_name": "Python 3",
   "language": "python",
   "name": "python3"
  },
  "language_info": {
   "codemirror_mode": {
    "name": "ipython",
    "version": 3
   },
   "file_extension": ".py",
   "mimetype": "text/x-python",
   "name": "python",
   "nbconvert_exporter": "python",
   "pygments_lexer": "ipython3",
   "version": "3.7.2"
  }
 },
 "nbformat": 4,
 "nbformat_minor": 2
}
